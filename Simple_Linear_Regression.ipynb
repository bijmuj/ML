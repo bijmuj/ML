{
  "nbformat": 4,
  "nbformat_minor": 0,
  "metadata": {
    "colab": {
      "name": "Simple Linear Regression.ipynb",
      "provenance": [],
      "authorship_tag": "ABX9TyOsqehsoZiJNcJe0fhc1ufg",
      "include_colab_link": true
    },
    "kernelspec": {
      "name": "python3",
      "display_name": "Python 3"
    },
    "language_info": {
      "name": "python"
    }
  },
  "cells": [
    {
      "cell_type": "markdown",
      "metadata": {
        "id": "view-in-github",
        "colab_type": "text"
      },
      "source": [
        "<a href=\"https://colab.research.google.com/github/bijmuj/ML/blob/main/Simple_Linear_Regression.ipynb\" target=\"_parent\"><img src=\"https://colab.research.google.com/assets/colab-badge.svg\" alt=\"Open In Colab\"/></a>"
      ]
    },
    {
      "cell_type": "markdown",
      "metadata": {
        "id": "GZlmv6lVamhp"
      },
      "source": [
        "## 1. Simple Linear Regression\n",
        "\n",
        "When you have only two numeric attributes, with only one being linearly dependent on the other, it is usually best to just use a simple linear model, i.e, y = a + bx, where y is the dependent variable and x is the independent one. You usually do not already know the value of the slope(b) and intercept(a). In which case you can use linear regression(line-fitting) to calculate them."
      ]
    },
    {
      "cell_type": "code",
      "metadata": {
        "colab": {
          "base_uri": "https://localhost:8080/"
        },
        "id": "88IqutbB6x8c",
        "outputId": "57081db1-f20f-4c0c-82db-4db56bc2af4d"
      },
      "source": [
        "!pip install --upgrade -q pip jax jaxlib"
      ],
      "execution_count": 1,
      "outputs": [
        {
          "output_type": "stream",
          "name": "stdout",
          "text": [
            "\u001b[?25l\r\u001b[K     |▏                               | 10 kB 20.8 MB/s eta 0:00:01\r\u001b[K     |▍                               | 20 kB 24.1 MB/s eta 0:00:01\r\u001b[K     |▋                               | 30 kB 25.1 MB/s eta 0:00:01\r\u001b[K     |▉                               | 40 kB 23.8 MB/s eta 0:00:01\r\u001b[K     |█                               | 51 kB 24.7 MB/s eta 0:00:01\r\u001b[K     |█▎                              | 61 kB 26.6 MB/s eta 0:00:01\r\u001b[K     |█▌                              | 71 kB 23.9 MB/s eta 0:00:01\r\u001b[K     |█▊                              | 81 kB 24.3 MB/s eta 0:00:01\r\u001b[K     |██                              | 92 kB 25.3 MB/s eta 0:00:01\r\u001b[K     |██                              | 102 kB 26.8 MB/s eta 0:00:01\r\u001b[K     |██▎                             | 112 kB 26.8 MB/s eta 0:00:01\r\u001b[K     |██▌                             | 122 kB 26.8 MB/s eta 0:00:01\r\u001b[K     |██▊                             | 133 kB 26.8 MB/s eta 0:00:01\r\u001b[K     |███                             | 143 kB 26.8 MB/s eta 0:00:01\r\u001b[K     |███▏                            | 153 kB 26.8 MB/s eta 0:00:01\r\u001b[K     |███▍                            | 163 kB 26.8 MB/s eta 0:00:01\r\u001b[K     |███▋                            | 174 kB 26.8 MB/s eta 0:00:01\r\u001b[K     |███▉                            | 184 kB 26.8 MB/s eta 0:00:01\r\u001b[K     |████                            | 194 kB 26.8 MB/s eta 0:00:01\r\u001b[K     |████▏                           | 204 kB 26.8 MB/s eta 0:00:01\r\u001b[K     |████▍                           | 215 kB 26.8 MB/s eta 0:00:01\r\u001b[K     |████▋                           | 225 kB 26.8 MB/s eta 0:00:01\r\u001b[K     |████▉                           | 235 kB 26.8 MB/s eta 0:00:01\r\u001b[K     |█████                           | 245 kB 26.8 MB/s eta 0:00:01\r\u001b[K     |█████▎                          | 256 kB 26.8 MB/s eta 0:00:01\r\u001b[K     |█████▌                          | 266 kB 26.8 MB/s eta 0:00:01\r\u001b[K     |█████▊                          | 276 kB 26.8 MB/s eta 0:00:01\r\u001b[K     |██████                          | 286 kB 26.8 MB/s eta 0:00:01\r\u001b[K     |██████                          | 296 kB 26.8 MB/s eta 0:00:01\r\u001b[K     |██████▎                         | 307 kB 26.8 MB/s eta 0:00:01\r\u001b[K     |██████▌                         | 317 kB 26.8 MB/s eta 0:00:01\r\u001b[K     |██████▊                         | 327 kB 26.8 MB/s eta 0:00:01\r\u001b[K     |███████                         | 337 kB 26.8 MB/s eta 0:00:01\r\u001b[K     |███████▏                        | 348 kB 26.8 MB/s eta 0:00:01\r\u001b[K     |███████▍                        | 358 kB 26.8 MB/s eta 0:00:01\r\u001b[K     |███████▋                        | 368 kB 26.8 MB/s eta 0:00:01\r\u001b[K     |███████▉                        | 378 kB 26.8 MB/s eta 0:00:01\r\u001b[K     |████████                        | 389 kB 26.8 MB/s eta 0:00:01\r\u001b[K     |████████▏                       | 399 kB 26.8 MB/s eta 0:00:01\r\u001b[K     |████████▍                       | 409 kB 26.8 MB/s eta 0:00:01\r\u001b[K     |████████▋                       | 419 kB 26.8 MB/s eta 0:00:01\r\u001b[K     |████████▉                       | 430 kB 26.8 MB/s eta 0:00:01\r\u001b[K     |█████████                       | 440 kB 26.8 MB/s eta 0:00:01\r\u001b[K     |█████████▎                      | 450 kB 26.8 MB/s eta 0:00:01\r\u001b[K     |█████████▌                      | 460 kB 26.8 MB/s eta 0:00:01\r\u001b[K     |█████████▊                      | 471 kB 26.8 MB/s eta 0:00:01\r\u001b[K     |██████████                      | 481 kB 26.8 MB/s eta 0:00:01\r\u001b[K     |██████████▏                     | 491 kB 26.8 MB/s eta 0:00:01\r\u001b[K     |██████████▎                     | 501 kB 26.8 MB/s eta 0:00:01\r\u001b[K     |██████████▌                     | 512 kB 26.8 MB/s eta 0:00:01\r\u001b[K     |██████████▊                     | 522 kB 26.8 MB/s eta 0:00:01\r\u001b[K     |███████████                     | 532 kB 26.8 MB/s eta 0:00:01\r\u001b[K     |███████████▏                    | 542 kB 26.8 MB/s eta 0:00:01\r\u001b[K     |███████████▍                    | 552 kB 26.8 MB/s eta 0:00:01\r\u001b[K     |███████████▋                    | 563 kB 26.8 MB/s eta 0:00:01\r\u001b[K     |███████████▉                    | 573 kB 26.8 MB/s eta 0:00:01\r\u001b[K     |████████████                    | 583 kB 26.8 MB/s eta 0:00:01\r\u001b[K     |████████████▏                   | 593 kB 26.8 MB/s eta 0:00:01\r\u001b[K     |████████████▍                   | 604 kB 26.8 MB/s eta 0:00:01\r\u001b[K     |████████████▋                   | 614 kB 26.8 MB/s eta 0:00:01\r\u001b[K     |████████████▉                   | 624 kB 26.8 MB/s eta 0:00:01\r\u001b[K     |█████████████                   | 634 kB 26.8 MB/s eta 0:00:01\r\u001b[K     |█████████████▎                  | 645 kB 26.8 MB/s eta 0:00:01\r\u001b[K     |█████████████▌                  | 655 kB 26.8 MB/s eta 0:00:01\r\u001b[K     |█████████████▊                  | 665 kB 26.8 MB/s eta 0:00:01\r\u001b[K     |██████████████                  | 675 kB 26.8 MB/s eta 0:00:01\r\u001b[K     |██████████████▏                 | 686 kB 26.8 MB/s eta 0:00:01\r\u001b[K     |██████████████▎                 | 696 kB 26.8 MB/s eta 0:00:01\r\u001b[K     |██████████████▌                 | 706 kB 26.8 MB/s eta 0:00:01\r\u001b[K     |██████████████▊                 | 716 kB 26.8 MB/s eta 0:00:01\r\u001b[K     |███████████████                 | 727 kB 26.8 MB/s eta 0:00:01\r\u001b[K     |███████████████▏                | 737 kB 26.8 MB/s eta 0:00:01\r\u001b[K     |███████████████▍                | 747 kB 26.8 MB/s eta 0:00:01\r\u001b[K     |███████████████▋                | 757 kB 26.8 MB/s eta 0:00:01\r\u001b[K     |███████████████▉                | 768 kB 26.8 MB/s eta 0:00:01\r\u001b[K     |████████████████                | 778 kB 26.8 MB/s eta 0:00:01\r\u001b[K     |████████████████▎               | 788 kB 26.8 MB/s eta 0:00:01\r\u001b[K     |████████████████▍               | 798 kB 26.8 MB/s eta 0:00:01\r\u001b[K     |████████████████▋               | 808 kB 26.8 MB/s eta 0:00:01\r\u001b[K     |████████████████▉               | 819 kB 26.8 MB/s eta 0:00:01\r\u001b[K     |█████████████████               | 829 kB 26.8 MB/s eta 0:00:01\r\u001b[K     |█████████████████▎              | 839 kB 26.8 MB/s eta 0:00:01\r\u001b[K     |█████████████████▌              | 849 kB 26.8 MB/s eta 0:00:01\r\u001b[K     |█████████████████▊              | 860 kB 26.8 MB/s eta 0:00:01\r\u001b[K     |██████████████████              | 870 kB 26.8 MB/s eta 0:00:01\r\u001b[K     |██████████████████▏             | 880 kB 26.8 MB/s eta 0:00:01\r\u001b[K     |██████████████████▎             | 890 kB 26.8 MB/s eta 0:00:01\r\u001b[K     |██████████████████▌             | 901 kB 26.8 MB/s eta 0:00:01\r\u001b[K     |██████████████████▊             | 911 kB 26.8 MB/s eta 0:00:01\r\u001b[K     |███████████████████             | 921 kB 26.8 MB/s eta 0:00:01\r\u001b[K     |███████████████████▏            | 931 kB 26.8 MB/s eta 0:00:01\r\u001b[K     |███████████████████▍            | 942 kB 26.8 MB/s eta 0:00:01\r\u001b[K     |███████████████████▋            | 952 kB 26.8 MB/s eta 0:00:01\r\u001b[K     |███████████████████▉            | 962 kB 26.8 MB/s eta 0:00:01\r\u001b[K     |████████████████████            | 972 kB 26.8 MB/s eta 0:00:01\r\u001b[K     |████████████████████▎           | 983 kB 26.8 MB/s eta 0:00:01\r\u001b[K     |████████████████████▍           | 993 kB 26.8 MB/s eta 0:00:01\r\u001b[K     |████████████████████▋           | 1.0 MB 26.8 MB/s eta 0:00:01\r\u001b[K     |████████████████████▉           | 1.0 MB 26.8 MB/s eta 0:00:01\r\u001b[K     |█████████████████████           | 1.0 MB 26.8 MB/s eta 0:00:01\r\u001b[K     |█████████████████████▎          | 1.0 MB 26.8 MB/s eta 0:00:01\r\u001b[K     |█████████████████████▌          | 1.0 MB 26.8 MB/s eta 0:00:01\r\u001b[K     |█████████████████████▊          | 1.1 MB 26.8 MB/s eta 0:00:01\r\u001b[K     |██████████████████████          | 1.1 MB 26.8 MB/s eta 0:00:01\r\u001b[K     |██████████████████████▏         | 1.1 MB 26.8 MB/s eta 0:00:01\r\u001b[K     |██████████████████████▍         | 1.1 MB 26.8 MB/s eta 0:00:01\r\u001b[K     |██████████████████████▌         | 1.1 MB 26.8 MB/s eta 0:00:01\r\u001b[K     |██████████████████████▊         | 1.1 MB 26.8 MB/s eta 0:00:01\r\u001b[K     |███████████████████████         | 1.1 MB 26.8 MB/s eta 0:00:01\r\u001b[K     |███████████████████████▏        | 1.1 MB 26.8 MB/s eta 0:00:01\r\u001b[K     |███████████████████████▍        | 1.1 MB 26.8 MB/s eta 0:00:01\r\u001b[K     |███████████████████████▋        | 1.1 MB 26.8 MB/s eta 0:00:01\r\u001b[K     |███████████████████████▉        | 1.2 MB 26.8 MB/s eta 0:00:01\r\u001b[K     |████████████████████████        | 1.2 MB 26.8 MB/s eta 0:00:01\r\u001b[K     |████████████████████████▎       | 1.2 MB 26.8 MB/s eta 0:00:01\r\u001b[K     |████████████████████████▍       | 1.2 MB 26.8 MB/s eta 0:00:01\r\u001b[K     |████████████████████████▋       | 1.2 MB 26.8 MB/s eta 0:00:01\r\u001b[K     |████████████████████████▉       | 1.2 MB 26.8 MB/s eta 0:00:01\r\u001b[K     |█████████████████████████       | 1.2 MB 26.8 MB/s eta 0:00:01\r\u001b[K     |█████████████████████████▎      | 1.2 MB 26.8 MB/s eta 0:00:01\r\u001b[K     |█████████████████████████▌      | 1.2 MB 26.8 MB/s eta 0:00:01\r\u001b[K     |█████████████████████████▊      | 1.2 MB 26.8 MB/s eta 0:00:01\r\u001b[K     |██████████████████████████      | 1.3 MB 26.8 MB/s eta 0:00:01\r\u001b[K     |██████████████████████████▏     | 1.3 MB 26.8 MB/s eta 0:00:01\r\u001b[K     |██████████████████████████▍     | 1.3 MB 26.8 MB/s eta 0:00:01\r\u001b[K     |██████████████████████████▌     | 1.3 MB 26.8 MB/s eta 0:00:01\r\u001b[K     |██████████████████████████▊     | 1.3 MB 26.8 MB/s eta 0:00:01\r\u001b[K     |███████████████████████████     | 1.3 MB 26.8 MB/s eta 0:00:01\r\u001b[K     |███████████████████████████▏    | 1.3 MB 26.8 MB/s eta 0:00:01\r\u001b[K     |███████████████████████████▍    | 1.3 MB 26.8 MB/s eta 0:00:01\r\u001b[K     |███████████████████████████▋    | 1.3 MB 26.8 MB/s eta 0:00:01\r\u001b[K     |███████████████████████████▉    | 1.4 MB 26.8 MB/s eta 0:00:01\r\u001b[K     |████████████████████████████    | 1.4 MB 26.8 MB/s eta 0:00:01\r\u001b[K     |████████████████████████████▎   | 1.4 MB 26.8 MB/s eta 0:00:01\r\u001b[K     |████████████████████████████▌   | 1.4 MB 26.8 MB/s eta 0:00:01\r\u001b[K     |████████████████████████████▋   | 1.4 MB 26.8 MB/s eta 0:00:01\r\u001b[K     |████████████████████████████▉   | 1.4 MB 26.8 MB/s eta 0:00:01\r\u001b[K     |█████████████████████████████   | 1.4 MB 26.8 MB/s eta 0:00:01\r\u001b[K     |█████████████████████████████▎  | 1.4 MB 26.8 MB/s eta 0:00:01\r\u001b[K     |█████████████████████████████▌  | 1.4 MB 26.8 MB/s eta 0:00:01\r\u001b[K     |█████████████████████████████▊  | 1.4 MB 26.8 MB/s eta 0:00:01\r\u001b[K     |██████████████████████████████  | 1.5 MB 26.8 MB/s eta 0:00:01\r\u001b[K     |██████████████████████████████▏ | 1.5 MB 26.8 MB/s eta 0:00:01\r\u001b[K     |██████████████████████████████▍ | 1.5 MB 26.8 MB/s eta 0:00:01\r\u001b[K     |██████████████████████████████▌ | 1.5 MB 26.8 MB/s eta 0:00:01\r\u001b[K     |██████████████████████████████▊ | 1.5 MB 26.8 MB/s eta 0:00:01\r\u001b[K     |███████████████████████████████ | 1.5 MB 26.8 MB/s eta 0:00:01\r\u001b[K     |███████████████████████████████▏| 1.5 MB 26.8 MB/s eta 0:00:01\r\u001b[K     |███████████████████████████████▍| 1.5 MB 26.8 MB/s eta 0:00:01\r\u001b[K     |███████████████████████████████▋| 1.5 MB 26.8 MB/s eta 0:00:01\r\u001b[K     |███████████████████████████████▉| 1.5 MB 26.8 MB/s eta 0:00:01\r\u001b[K     |████████████████████████████████| 1.6 MB 26.8 MB/s \n",
            "\u001b[?25h"
          ]
        }
      ]
    },
    {
      "cell_type": "code",
      "metadata": {
        "id": "O4zgqSVL62U1"
      },
      "source": [
        "import jax\n",
        "from jax import numpy as jnp, random\n",
        "from matplotlib import pyplot as plt\n",
        "%matplotlib inline"
      ],
      "execution_count": 2,
      "outputs": []
    },
    {
      "cell_type": "markdown",
      "metadata": {
        "id": "beHnt-USpRu0"
      },
      "source": [
        "## Generating Data\n",
        "\n",
        "For simplicities sake, rather finding an actual dataset I created my own. The linear relation here is simply y = 50 + 100x. To make it closer to real life data I added some noise in the range -10 to 10. Later when we compute a and b they should come close to 50 and 100."
      ]
    },
    {
      "cell_type": "code",
      "metadata": {
        "id": "C1lGIlFaamAh"
      },
      "source": [
        "# Creating the keys for jax's pseudorandom number generator\n",
        "key = random.PRNGKey(1111)\n",
        "k1, k2 = random.split(key)\n",
        "\n",
        "x = random.normal(k1, (100, 1), dtype='float32') \n",
        "k1, k2 = random.split(k2)\n",
        "noise = random.uniform(k1, (100, 1), minval=-10, maxval=10, dtype='float32')\n",
        "\n",
        "y = x * 100 + noise + 50"
      ],
      "execution_count": 4,
      "outputs": []
    },
    {
      "cell_type": "markdown",
      "metadata": {
        "id": "Gt1IkPDWrBEV"
      },
      "source": [
        "## Showing Linear Relation between x and y\n",
        "\n",
        "We know that x and y are linearly related in this case because we created them that way. But when we do not know the data generation process and the rules governing it, we need to figure out if there is a linear relation between them before trying to do linear regression. The easiest method is to plot the values on a graph:"
      ]
    },
    {
      "cell_type": "code",
      "metadata": {
        "colab": {
          "base_uri": "https://localhost:8080/",
          "height": 295
        },
        "id": "EmNIak-Mbuyy",
        "outputId": "fd7a6f4c-6836-45f0-9d7b-39bea7542286"
      },
      "source": [
        "plt.scatter(x, y)\n",
        "plt.xlabel(\"X\")\n",
        "plt.ylabel(\"Y\")\n",
        "plt.title(\"Generated data\")\n",
        "plt.show()"
      ],
      "execution_count": 5,
      "outputs": [
        {
          "output_type": "display_data",
          "data": {
            "image/png": "[encoded data removed]",
            "text/plain": [
              "<Figure size 432x288 with 1 Axes>"
            ]
          },
          "metadata": {
            "needs_background": "light"
          }
        }
      ]
    },
    {
      "cell_type": "markdown",
      "metadata": {
        "id": "AjQgwiR4sLXY"
      },
      "source": [
        "Another way to look for a linear relation to compute the correlation coefficient r.\n",
        "![image.png](data:image/png;base64,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)\n",
        "\n",
        "The value of r ranges between -1 and 1. If the r value is 0 then the variables are not correlated, i.e, no linear relation. On the other hand, if the value lies close to one of the extremes, we can say the variables are highly correlated."
      ]
    },
    {
      "cell_type": "code",
      "metadata": {
        "colab": {
          "base_uri": "https://localhost:8080/"
        },
        "id": "vnZ6e11psjZh",
        "outputId": "27e576cf-2b95-4ef3-985a-bec92e9f3021"
      },
      "source": [
        "x_bar = jnp.mean(x)\n",
        "y_bar = jnp.mean(y)\n",
        "cov_xy = jnp.sum((x - x_bar) * (y - y_bar))\n",
        "cov_xx = jnp.sum(jnp.power(x - x_bar, 2))\n",
        "cov_yy = jnp.sum(jnp.power(y - y_bar, 2))\n",
        "r_xy = cov_xy / jnp.sqrt(cov_xx * cov_yy)\n",
        "print(f'Correlation Coefficient = {r_xy}')"
      ],
      "execution_count": 7,
      "outputs": [
        {
          "output_type": "stream",
          "name": "stdout",
          "text": [
            "Correlation Coefficient = 0.9985909461975098\n"
          ]
        }
      ]
    },
    {
      "cell_type": "markdown",
      "metadata": {
        "id": "EKu6KpQpuWBB"
      },
      "source": [
        "Or if we just use the built-in corrcoef function in jax.numpy, we get the correlation coefficients of xx, xy, yx and yy. Notice that the correlation coefficient of xy and yx are the same, that is because the correlation formula is invariant to the order of variables."
      ]
    },
    {
      "cell_type": "code",
      "metadata": {
        "colab": {
          "base_uri": "https://localhost:8080/"
        },
        "id": "cUrcGMz1tkS7",
        "outputId": "471dc4df-9011-4463-927f-24b6dafcbc8c"
      },
      "source": [
        "jnp.corrcoef(x, y, rowvar=0)"
      ],
      "execution_count": 15,
      "outputs": [
        {
          "output_type": "execute_result",
          "data": {
            "text/plain": [
              "DeviceArray([[0.9999999, 0.9985909],\n",
              "             [0.9985909, 1.       ]], dtype=float32)"
            ]
          },
          "metadata": {},
          "execution_count": 15
        }
      ]
    },
    {
      "cell_type": "markdown",
      "metadata": {
        "id": "SaDaHCm0u6zs"
      },
      "source": [
        "Both methods gave us a correlation value of around 0.9986, which is pretty high, as it should be in this case."
      ]
    },
    {
      "cell_type": "markdown",
      "metadata": {
        "id": "TNrgYLZ3tj4r"
      },
      "source": [
        "# Doing Linear Regression\n",
        "\n",
        "To find a and b we will be using the following two formulas:\n",
        "\n",
        "![image.png](data:image/png;base64,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)"
      ]
    },
    {
      "cell_type": "code",
      "metadata": {
        "colab": {
          "base_uri": "https://localhost:8080/"
        },
        "id": "kUbBa0bPwuqV",
        "outputId": "27191531-880b-4cf4-d708-0112749e2f5b"
      },
      "source": [
        "n = 100\n",
        "\n",
        "sum_x = jnp.sum(x)\n",
        "sum_y = jnp.sum(y)\n",
        "sum_x2 = jnp.sum(jnp.power(x, 2))\n",
        "sum_xy = jnp.sum(x * y)\n",
        "\n",
        "# common denominator, so only computing once\n",
        "denominator = (n * sum_x2 - jnp.power(sum_x, 2))\n",
        "a = (sum_y * sum_x2 - sum_x * sum_xy) / denominator\n",
        "b = (n * sum_xy - sum_x * sum_y) / denominator\n",
        "\n",
        "print(f'a = {a}\\nb = {b}')"
      ],
      "execution_count": 16,
      "outputs": [
        {
          "output_type": "stream",
          "name": "stdout",
          "text": [
            "a = 49.72011184692383\n",
            "b = 99.8991928100586\n"
          ]
        }
      ]
    },
    {
      "cell_type": "markdown",
      "metadata": {
        "id": "-_cPjsuByKuW"
      },
      "source": [
        "As you can see, we got values really close to 50 and 100. The small deviations are there due to the noise."
      ]
    },
    {
      "cell_type": "markdown",
      "metadata": {
        "id": "ktpghfdjySzL"
      },
      "source": [
        "## Predictions and their Accuracy\n",
        "\n",
        "We will be using the original y = a + bx formula to predict y values for each x, here called yhat. Then we are going to use Mean Square Error(MSE) and Root Mean Square Error(RMSE) as our accuracy(smaller is better)."
      ]
    },
    {
      "cell_type": "code",
      "metadata": {
        "colab": {
          "base_uri": "https://localhost:8080/",
          "height": 295
        },
        "id": "RTAnT5R7y4bO",
        "outputId": "ef335453-05cb-4555-8391-237b9d1a4b23"
      },
      "source": [
        "yhat = a + b * x\n",
        "\n",
        "plt.scatter(x, y, label='y')\n",
        "plt.scatter(x, yhat, label='Yhat', )\n",
        "plt.title(\"Original vs Predicted Values\")\n",
        "plt.xlabel('X')\n",
        "plt.legend(loc='upper left')\n",
        "plt.show()"
      ],
      "execution_count": 23,
      "outputs": [
        {
          "output_type": "display_data",
          "data": {
            "image/png": "[encoded data removed]",
            "text/plain": [
              "<Figure size 432x288 with 1 Axes>"
            ]
          },
          "metadata": {
            "needs_background": "light"
          }
        }
      ]
    },
    {
      "cell_type": "markdown",
      "metadata": {
        "id": "OoUVVzg0zesK"
      },
      "source": [
        "This plot looks like an even straighter line than the original because linear regression does not take into account the noise in the original data."
      ]
    },
    {
      "cell_type": "code",
      "metadata": {
        "id": "FRnWIgJ_vlnp",
        "colab": {
          "base_uri": "https://localhost:8080/"
        },
        "outputId": "85db5073-87c2-440e-b62b-6be98129b564"
      },
      "source": [
        "mse = jnp.mean(jnp.power(y - yhat, 2))\n",
        "rmse = jnp.sqrt(mse)\n",
        "\n",
        "print(f'MSE = {mse}\\nRMSE = {rmse}')"
      ],
      "execution_count": 19,
      "outputs": [
        {
          "output_type": "stream",
          "name": "stdout",
          "text": [
            "MSE = 28.701101303100586\n",
            "RMSE = 5.3573408126831055\n"
          ]
        }
      ]
    },
    {
      "cell_type": "markdown",
      "metadata": {
        "id": "bcQ512byzp-7"
      },
      "source": [
        "Pretty small values for MSE and RMSE which is what we want."
      ]
    },
    {
      "cell_type": "markdown",
      "metadata": {
        "id": "ZjHtJD-F0Qz-"
      },
      "source": [
        "## Conclusion\n",
        "\n",
        "Here I have demonstrated how to find the existance of a linear relationship between two variables and used linear regression to model that relation to a reasonable level of accuracy."
      ]
    },
    {
      "cell_type": "code",
      "metadata": {
        "id": "x0l3XYSTzUIc"
      },
      "source": [
        ""
      ],
      "execution_count": null,
      "outputs": []
    }
  ]
}